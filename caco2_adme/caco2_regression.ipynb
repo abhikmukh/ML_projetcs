{
 "cells": [
  {
   "cell_type": "markdown",
   "metadata": {},
   "source": [
    "# Caco-2 (Cell Effective Permeability) regression task"
   ]
  },
  {
   "cell_type": "markdown",
   "metadata": {},
   "source": [
    "The human colon epithelial cancer cell line, Caco-2, is used as an in vitro model to simulate the human intestinal tissue."
   ]
  },
  {
   "cell_type": "code",
   "execution_count": 1,
   "metadata": {},
   "outputs": [
    {
     "name": "stdout",
     "output_type": "stream",
     "text": [
      "c:\\Users\\abhik\\Documents\\ML_projetcs\n"
     ]
    }
   ],
   "source": [
    "%cd .."
   ]
  },
  {
   "cell_type": "code",
   "execution_count": 2,
   "metadata": {},
   "outputs": [
    {
     "name": "stderr",
     "output_type": "stream",
     "text": [
      "C:\\Users\\abhik\\AppData\\Local\\Temp\\ipykernel_12224\\2690803851.py:1: DeprecationWarning: \n",
      "Pyarrow will become a required dependency of pandas in the next major release of pandas (pandas 3.0),\n",
      "(to allow more performant data types, such as the Arrow string type, and better interoperability with other libraries)\n",
      "but was not found to be installed on your system.\n",
      "If this would cause problems for you,\n",
      "please provide us feedback at https://github.com/pandas-dev/pandas/issues/54466\n",
      "        \n",
      "  import pandas as pd\n"
     ]
    }
   ],
   "source": [
    "import pandas as pd\n",
    "import seaborn as sns\n",
    "import numpy as np\n",
    "from sklearn.ensemble import RandomForestRegressor, GradientBoostingRegressor\n",
    "from sklearn.model_selection import train_test_split\n",
    "from sklearn.preprocessing import StandardScaler, RobustScaler, MinMaxScaler\n",
    "from rdkit import Chem\n",
    "from rdkit.Chem import AllChem\n",
    "from itertools import combinations\n",
    "from rdkit import Chem #Chemistry\n",
    "from rdkit.Chem import rdMolDescriptors #molecular descriptors\n",
    "from sklearn.metrics import r2_score, mean_squared_error, root_mean_squared_error #ML stats\n",
    "from sklearn.linear_model import SGDRegressor\n",
    "from sklearn.pipeline import Pipeline\n",
    "from sklearn.svm import SVR\n",
    "import matplotlib.pyplot as plt\n",
    "\n",
    "from tdc.single_pred import ADME\n",
    "\n",
    "from utils import modelling_utils"
   ]
  },
  {
   "cell_type": "code",
   "execution_count": 3,
   "metadata": {},
   "outputs": [
    {
     "name": "stderr",
     "output_type": "stream",
     "text": [
      "Found local copy...\n",
      "Loading...\n",
      "Done!\n"
     ]
    }
   ],
   "source": [
    "data = ADME(name = 'Caco2_Wang')\n",
    "split = data.get_split()"
   ]
  },
  {
   "cell_type": "code",
   "execution_count": 4,
   "metadata": {},
   "outputs": [],
   "source": [
    "data_df = data.get_data()\n",
    "data_df.columns = [\"Name\",\"SMILES\",\"caco2\"]"
   ]
  },
  {
   "cell_type": "code",
   "execution_count": 5,
   "metadata": {},
   "outputs": [
    {
     "data": {
      "text/html": [
       "<div>\n",
       "<style scoped>\n",
       "    .dataframe tbody tr th:only-of-type {\n",
       "        vertical-align: middle;\n",
       "    }\n",
       "\n",
       "    .dataframe tbody tr th {\n",
       "        vertical-align: top;\n",
       "    }\n",
       "\n",
       "    .dataframe thead th {\n",
       "        text-align: right;\n",
       "    }\n",
       "</style>\n",
       "<table border=\"1\" class=\"dataframe\">\n",
       "  <thead>\n",
       "    <tr style=\"text-align: right;\">\n",
       "      <th></th>\n",
       "      <th>Name</th>\n",
       "      <th>SMILES</th>\n",
       "      <th>caco2</th>\n",
       "    </tr>\n",
       "  </thead>\n",
       "  <tbody>\n",
       "    <tr>\n",
       "      <th>0</th>\n",
       "      <td>(-)-epicatechin</td>\n",
       "      <td>Oc1cc(O)c2c(c1)OC(c1ccc(O)c(O)c1)C(O)C2</td>\n",
       "      <td>-6.220000</td>\n",
       "    </tr>\n",
       "    <tr>\n",
       "      <th>1</th>\n",
       "      <td>(2E,4Z,8Z)-N-isobutyldodeca-2,4,10-triene-8 -y...</td>\n",
       "      <td>C/C=C\\C#CCC/C=C\\C=C\\C(=O)NCC(C)C</td>\n",
       "      <td>-3.860000</td>\n",
       "    </tr>\n",
       "    <tr>\n",
       "      <th>2</th>\n",
       "      <td>codeine</td>\n",
       "      <td>COc1ccc2c3c1O[C@H]1[C@@H](O)C=C[C@H]4[C@@H](C2...</td>\n",
       "      <td>-4.090000</td>\n",
       "    </tr>\n",
       "    <tr>\n",
       "      <th>3</th>\n",
       "      <td>creatinine</td>\n",
       "      <td>CN1CC(=O)NC1=N</td>\n",
       "      <td>-5.935409</td>\n",
       "    </tr>\n",
       "    <tr>\n",
       "      <th>4</th>\n",
       "      <td>danazol</td>\n",
       "      <td>C#C[C@]1(O)CC[C@H]2[C@@H]3CCC4=Cc5oncc5C[C@]4(...</td>\n",
       "      <td>-4.840000</td>\n",
       "    </tr>\n",
       "  </tbody>\n",
       "</table>\n",
       "</div>"
      ],
      "text/plain": [
       "                                                Name  \\\n",
       "0                                    (-)-epicatechin   \n",
       "1  (2E,4Z,8Z)-N-isobutyldodeca-2,4,10-triene-8 -y...   \n",
       "2                                            codeine   \n",
       "3                                         creatinine   \n",
       "4                                            danazol   \n",
       "\n",
       "                                              SMILES     caco2  \n",
       "0            Oc1cc(O)c2c(c1)OC(c1ccc(O)c(O)c1)C(O)C2 -6.220000  \n",
       "1                   C/C=C\\C#CCC/C=C\\C=C\\C(=O)NCC(C)C -3.860000  \n",
       "2  COc1ccc2c3c1O[C@H]1[C@@H](O)C=C[C@H]4[C@@H](C2... -4.090000  \n",
       "3                                     CN1CC(=O)NC1=N -5.935409  \n",
       "4  C#C[C@]1(O)CC[C@H]2[C@@H]3CCC4=Cc5oncc5C[C@]4(... -4.840000  "
      ]
     },
     "execution_count": 5,
     "metadata": {},
     "output_type": "execute_result"
    }
   ],
   "source": [
    "data_df.head()"
   ]
  },
  {
   "cell_type": "markdown",
   "metadata": {},
   "source": [
    "## RdKit Molecular property as features"
   ]
  },
  {
   "cell_type": "code",
   "execution_count": 6,
   "metadata": {},
   "outputs": [],
   "source": [
    "property_names = list(rdMolDescriptors.Properties.GetAvailableProperties())\n",
    "property_getter = rdMolDescriptors.Properties(property_names)"
   ]
  },
  {
   "cell_type": "code",
   "execution_count": 7,
   "metadata": {},
   "outputs": [],
   "source": [
    "def smi2props(smi):\n",
    "    mol = Chem.MolFromSmiles(smi)\n",
    "    props = None\n",
    "    if mol:\n",
    "        Chem.DeleteSubstructs(mol, Chem.MolFromSmarts(\"[#1X0]\"))\n",
    "        props = np.array(property_getter.ComputeProperties(mol))\n",
    "    return props"
   ]
  },
  {
   "cell_type": "code",
   "execution_count": 8,
   "metadata": {},
   "outputs": [],
   "source": [
    "data_df['props'] = data_df.SMILES.apply(smi2props)"
   ]
  },
  {
   "cell_type": "code",
   "execution_count": 9,
   "metadata": {},
   "outputs": [
    {
     "data": {
      "text/html": [
       "<div>\n",
       "<style scoped>\n",
       "    .dataframe tbody tr th:only-of-type {\n",
       "        vertical-align: middle;\n",
       "    }\n",
       "\n",
       "    .dataframe tbody tr th {\n",
       "        vertical-align: top;\n",
       "    }\n",
       "\n",
       "    .dataframe thead th {\n",
       "        text-align: right;\n",
       "    }\n",
       "</style>\n",
       "<table border=\"1\" class=\"dataframe\">\n",
       "  <thead>\n",
       "    <tr style=\"text-align: right;\">\n",
       "      <th></th>\n",
       "      <th>Name</th>\n",
       "      <th>SMILES</th>\n",
       "      <th>caco2</th>\n",
       "      <th>props</th>\n",
       "    </tr>\n",
       "  </thead>\n",
       "  <tbody>\n",
       "    <tr>\n",
       "      <th>0</th>\n",
       "      <td>(-)-epicatechin</td>\n",
       "      <td>Oc1cc(O)c2c(c1)OC(c1ccc(O)c(O)c1)C(O)C2</td>\n",
       "      <td>-6.220000</td>\n",
       "      <td>[290.079038168, 290.271, 6.0, 5.0, 1.0, 5.0, 6...</td>\n",
       "    </tr>\n",
       "    <tr>\n",
       "      <th>1</th>\n",
       "      <td>(2E,4Z,8Z)-N-isobutyldodeca-2,4,10-triene-8 -y...</td>\n",
       "      <td>C/C=C\\C#CCC/C=C\\C=C\\C(=O)NCC(C)C</td>\n",
       "      <td>-3.860000</td>\n",
       "      <td>[245.177964356, 245.36599999999999, 2.0, 1.0, ...</td>\n",
       "    </tr>\n",
       "    <tr>\n",
       "      <th>2</th>\n",
       "      <td>codeine</td>\n",
       "      <td>COc1ccc2c3c1O[C@H]1[C@@H](O)C=C[C@H]4[C@@H](C2...</td>\n",
       "      <td>-4.090000</td>\n",
       "      <td>[299.152143532, 299.3700000000001, 4.0, 1.0, 1...</td>\n",
       "    </tr>\n",
       "    <tr>\n",
       "      <th>3</th>\n",
       "      <td>creatinine</td>\n",
       "      <td>CN1CC(=O)NC1=N</td>\n",
       "      <td>-5.935409</td>\n",
       "      <td>[113.058911844, 113.11999999999999, 4.0, 2.0, ...</td>\n",
       "    </tr>\n",
       "    <tr>\n",
       "      <th>4</th>\n",
       "      <td>danazol</td>\n",
       "      <td>C#C[C@]1(O)CC[C@H]2[C@@H]3CCC4=Cc5oncc5C[C@]4(...</td>\n",
       "      <td>-4.840000</td>\n",
       "      <td>[337.20417910400005, 337.46300000000014, 3.0, ...</td>\n",
       "    </tr>\n",
       "  </tbody>\n",
       "</table>\n",
       "</div>"
      ],
      "text/plain": [
       "                                                Name  \\\n",
       "0                                    (-)-epicatechin   \n",
       "1  (2E,4Z,8Z)-N-isobutyldodeca-2,4,10-triene-8 -y...   \n",
       "2                                            codeine   \n",
       "3                                         creatinine   \n",
       "4                                            danazol   \n",
       "\n",
       "                                              SMILES     caco2  \\\n",
       "0            Oc1cc(O)c2c(c1)OC(c1ccc(O)c(O)c1)C(O)C2 -6.220000   \n",
       "1                   C/C=C\\C#CCC/C=C\\C=C\\C(=O)NCC(C)C -3.860000   \n",
       "2  COc1ccc2c3c1O[C@H]1[C@@H](O)C=C[C@H]4[C@@H](C2... -4.090000   \n",
       "3                                     CN1CC(=O)NC1=N -5.935409   \n",
       "4  C#C[C@]1(O)CC[C@H]2[C@@H]3CCC4=Cc5oncc5C[C@]4(... -4.840000   \n",
       "\n",
       "                                               props  \n",
       "0  [290.079038168, 290.271, 6.0, 5.0, 1.0, 5.0, 6...  \n",
       "1  [245.177964356, 245.36599999999999, 2.0, 1.0, ...  \n",
       "2  [299.152143532, 299.3700000000001, 4.0, 1.0, 1...  \n",
       "3  [113.058911844, 113.11999999999999, 4.0, 2.0, ...  \n",
       "4  [337.20417910400005, 337.46300000000014, 3.0, ...  "
      ]
     },
     "execution_count": 9,
     "metadata": {},
     "output_type": "execute_result"
    }
   ],
   "source": [
    "data_df.head()"
   ]
  },
  {
   "cell_type": "code",
   "execution_count": 10,
   "metadata": {},
   "outputs": [],
   "source": [
    "data_df[property_names] = data_df['props'].to_list()"
   ]
  },
  {
   "cell_type": "code",
   "execution_count": 11,
   "metadata": {},
   "outputs": [
    {
     "data": {
      "text/html": [
       "<div>\n",
       "<style scoped>\n",
       "    .dataframe tbody tr th:only-of-type {\n",
       "        vertical-align: middle;\n",
       "    }\n",
       "\n",
       "    .dataframe tbody tr th {\n",
       "        vertical-align: top;\n",
       "    }\n",
       "\n",
       "    .dataframe thead th {\n",
       "        text-align: right;\n",
       "    }\n",
       "</style>\n",
       "<table border=\"1\" class=\"dataframe\">\n",
       "  <thead>\n",
       "    <tr style=\"text-align: right;\">\n",
       "      <th></th>\n",
       "      <th>Name</th>\n",
       "      <th>SMILES</th>\n",
       "      <th>caco2</th>\n",
       "      <th>props</th>\n",
       "      <th>exactmw</th>\n",
       "      <th>amw</th>\n",
       "      <th>lipinskiHBA</th>\n",
       "      <th>lipinskiHBD</th>\n",
       "      <th>NumRotatableBonds</th>\n",
       "      <th>NumHBD</th>\n",
       "      <th>...</th>\n",
       "      <th>chi0n</th>\n",
       "      <th>chi1n</th>\n",
       "      <th>chi2n</th>\n",
       "      <th>chi3n</th>\n",
       "      <th>chi4n</th>\n",
       "      <th>hallKierAlpha</th>\n",
       "      <th>kappa1</th>\n",
       "      <th>kappa2</th>\n",
       "      <th>kappa3</th>\n",
       "      <th>Phi</th>\n",
       "    </tr>\n",
       "  </thead>\n",
       "  <tbody>\n",
       "    <tr>\n",
       "      <th>0</th>\n",
       "      <td>(-)-epicatechin</td>\n",
       "      <td>Oc1cc(O)c2c(c1)OC(c1ccc(O)c(O)c1)C(O)C2</td>\n",
       "      <td>-6.220000</td>\n",
       "      <td>[290.079038168, 290.271, 6.0, 5.0, 1.0, 5.0, 6...</td>\n",
       "      <td>290.079038</td>\n",
       "      <td>290.271</td>\n",
       "      <td>6.0</td>\n",
       "      <td>5.0</td>\n",
       "      <td>1.0</td>\n",
       "      <td>5.0</td>\n",
       "      <td>...</td>\n",
       "      <td>10.892875</td>\n",
       "      <td>6.368997</td>\n",
       "      <td>3.514868</td>\n",
       "      <td>3.514868</td>\n",
       "      <td>2.465958</td>\n",
       "      <td>-2.60</td>\n",
       "      <td>13.386159</td>\n",
       "      <td>4.746545</td>\n",
       "      <td>2.295403</td>\n",
       "      <td>3.025620</td>\n",
       "    </tr>\n",
       "    <tr>\n",
       "      <th>1</th>\n",
       "      <td>(2E,4Z,8Z)-N-isobutyldodeca-2,4,10-triene-8 -y...</td>\n",
       "      <td>C/C=C\\C#CCC/C=C\\C=C\\C(=O)NCC(C)C</td>\n",
       "      <td>-3.860000</td>\n",
       "      <td>[245.177964356, 245.36599999999999, 2.0, 1.0, ...</td>\n",
       "      <td>245.177964</td>\n",
       "      <td>245.366</td>\n",
       "      <td>2.0</td>\n",
       "      <td>1.0</td>\n",
       "      <td>6.0</td>\n",
       "      <td>1.0</td>\n",
       "      <td>...</td>\n",
       "      <td>11.571021</td>\n",
       "      <td>6.370462</td>\n",
       "      <td>1.967401</td>\n",
       "      <td>1.967401</td>\n",
       "      <td>1.051316</td>\n",
       "      <td>-1.75</td>\n",
       "      <td>16.250000</td>\n",
       "      <td>11.727160</td>\n",
       "      <td>12.320175</td>\n",
       "      <td>10.587019</td>\n",
       "    </tr>\n",
       "    <tr>\n",
       "      <th>2</th>\n",
       "      <td>codeine</td>\n",
       "      <td>COc1ccc2c3c1O[C@H]1[C@@H](O)C=C[C@H]4[C@@H](C2...</td>\n",
       "      <td>-4.090000</td>\n",
       "      <td>[299.152143532, 299.3700000000001, 4.0, 1.0, 1...</td>\n",
       "      <td>299.152144</td>\n",
       "      <td>299.370</td>\n",
       "      <td>4.0</td>\n",
       "      <td>1.0</td>\n",
       "      <td>1.0</td>\n",
       "      <td>1.0</td>\n",
       "      <td>...</td>\n",
       "      <td>12.951046</td>\n",
       "      <td>8.102094</td>\n",
       "      <td>6.354310</td>\n",
       "      <td>6.354310</td>\n",
       "      <td>5.388741</td>\n",
       "      <td>-1.52</td>\n",
       "      <td>12.968359</td>\n",
       "      <td>4.059868</td>\n",
       "      <td>1.277623</td>\n",
       "      <td>2.393174</td>\n",
       "    </tr>\n",
       "    <tr>\n",
       "      <th>3</th>\n",
       "      <td>creatinine</td>\n",
       "      <td>CN1CC(=O)NC1=N</td>\n",
       "      <td>-5.935409</td>\n",
       "      <td>[113.058911844, 113.11999999999999, 4.0, 2.0, ...</td>\n",
       "      <td>113.058912</td>\n",
       "      <td>113.120</td>\n",
       "      <td>4.0</td>\n",
       "      <td>2.0</td>\n",
       "      <td>0.0</td>\n",
       "      <td>2.0</td>\n",
       "      <td>...</td>\n",
       "      <td>4.562569</td>\n",
       "      <td>2.294726</td>\n",
       "      <td>1.020319</td>\n",
       "      <td>1.020319</td>\n",
       "      <td>0.561486</td>\n",
       "      <td>-1.06</td>\n",
       "      <td>5.084092</td>\n",
       "      <td>1.467127</td>\n",
       "      <td>0.640744</td>\n",
       "      <td>0.932376</td>\n",
       "    </tr>\n",
       "    <tr>\n",
       "      <th>4</th>\n",
       "      <td>danazol</td>\n",
       "      <td>C#C[C@]1(O)CC[C@H]2[C@@H]3CCC4=Cc5oncc5C[C@]4(...</td>\n",
       "      <td>-4.840000</td>\n",
       "      <td>[337.20417910400005, 337.46300000000014, 3.0, ...</td>\n",
       "      <td>337.204179</td>\n",
       "      <td>337.463</td>\n",
       "      <td>3.0</td>\n",
       "      <td>1.0</td>\n",
       "      <td>0.0</td>\n",
       "      <td>1.0</td>\n",
       "      <td>...</td>\n",
       "      <td>15.216525</td>\n",
       "      <td>9.759733</td>\n",
       "      <td>8.665479</td>\n",
       "      <td>8.665479</td>\n",
       "      <td>7.136475</td>\n",
       "      <td>-1.53</td>\n",
       "      <td>15.703697</td>\n",
       "      <td>4.796471</td>\n",
       "      <td>1.792760</td>\n",
       "      <td>3.012893</td>\n",
       "    </tr>\n",
       "  </tbody>\n",
       "</table>\n",
       "<p>5 rows × 47 columns</p>\n",
       "</div>"
      ],
      "text/plain": [
       "                                                Name  \\\n",
       "0                                    (-)-epicatechin   \n",
       "1  (2E,4Z,8Z)-N-isobutyldodeca-2,4,10-triene-8 -y...   \n",
       "2                                            codeine   \n",
       "3                                         creatinine   \n",
       "4                                            danazol   \n",
       "\n",
       "                                              SMILES     caco2  \\\n",
       "0            Oc1cc(O)c2c(c1)OC(c1ccc(O)c(O)c1)C(O)C2 -6.220000   \n",
       "1                   C/C=C\\C#CCC/C=C\\C=C\\C(=O)NCC(C)C -3.860000   \n",
       "2  COc1ccc2c3c1O[C@H]1[C@@H](O)C=C[C@H]4[C@@H](C2... -4.090000   \n",
       "3                                     CN1CC(=O)NC1=N -5.935409   \n",
       "4  C#C[C@]1(O)CC[C@H]2[C@@H]3CCC4=Cc5oncc5C[C@]4(... -4.840000   \n",
       "\n",
       "                                               props     exactmw      amw  \\\n",
       "0  [290.079038168, 290.271, 6.0, 5.0, 1.0, 5.0, 6...  290.079038  290.271   \n",
       "1  [245.177964356, 245.36599999999999, 2.0, 1.0, ...  245.177964  245.366   \n",
       "2  [299.152143532, 299.3700000000001, 4.0, 1.0, 1...  299.152144  299.370   \n",
       "3  [113.058911844, 113.11999999999999, 4.0, 2.0, ...  113.058912  113.120   \n",
       "4  [337.20417910400005, 337.46300000000014, 3.0, ...  337.204179  337.463   \n",
       "\n",
       "   lipinskiHBA  lipinskiHBD  NumRotatableBonds  NumHBD  ...      chi0n  \\\n",
       "0          6.0          5.0                1.0     5.0  ...  10.892875   \n",
       "1          2.0          1.0                6.0     1.0  ...  11.571021   \n",
       "2          4.0          1.0                1.0     1.0  ...  12.951046   \n",
       "3          4.0          2.0                0.0     2.0  ...   4.562569   \n",
       "4          3.0          1.0                0.0     1.0  ...  15.216525   \n",
       "\n",
       "      chi1n     chi2n     chi3n     chi4n  hallKierAlpha     kappa1  \\\n",
       "0  6.368997  3.514868  3.514868  2.465958          -2.60  13.386159   \n",
       "1  6.370462  1.967401  1.967401  1.051316          -1.75  16.250000   \n",
       "2  8.102094  6.354310  6.354310  5.388741          -1.52  12.968359   \n",
       "3  2.294726  1.020319  1.020319  0.561486          -1.06   5.084092   \n",
       "4  9.759733  8.665479  8.665479  7.136475          -1.53  15.703697   \n",
       "\n",
       "      kappa2     kappa3        Phi  \n",
       "0   4.746545   2.295403   3.025620  \n",
       "1  11.727160  12.320175  10.587019  \n",
       "2   4.059868   1.277623   2.393174  \n",
       "3   1.467127   0.640744   0.932376  \n",
       "4   4.796471   1.792760   3.012893  \n",
       "\n",
       "[5 rows x 47 columns]"
      ]
     },
     "execution_count": 11,
     "metadata": {},
     "output_type": "execute_result"
    }
   ],
   "source": [
    "data_df.head()"
   ]
  },
  {
   "cell_type": "code",
   "execution_count": 12,
   "metadata": {},
   "outputs": [],
   "source": [
    "data_df.drop(columns=['Name', \"SMILES\", \"props\"], inplace=True)"
   ]
  },
  {
   "cell_type": "code",
   "execution_count": 13,
   "metadata": {},
   "outputs": [
    {
     "data": {
      "text/html": [
       "<div>\n",
       "<style scoped>\n",
       "    .dataframe tbody tr th:only-of-type {\n",
       "        vertical-align: middle;\n",
       "    }\n",
       "\n",
       "    .dataframe tbody tr th {\n",
       "        vertical-align: top;\n",
       "    }\n",
       "\n",
       "    .dataframe thead th {\n",
       "        text-align: right;\n",
       "    }\n",
       "</style>\n",
       "<table border=\"1\" class=\"dataframe\">\n",
       "  <thead>\n",
       "    <tr style=\"text-align: right;\">\n",
       "      <th></th>\n",
       "      <th>caco2</th>\n",
       "      <th>exactmw</th>\n",
       "      <th>amw</th>\n",
       "      <th>lipinskiHBA</th>\n",
       "      <th>lipinskiHBD</th>\n",
       "      <th>NumRotatableBonds</th>\n",
       "      <th>NumHBD</th>\n",
       "      <th>NumHBA</th>\n",
       "      <th>NumHeavyAtoms</th>\n",
       "      <th>NumAtoms</th>\n",
       "      <th>...</th>\n",
       "      <th>chi0n</th>\n",
       "      <th>chi1n</th>\n",
       "      <th>chi2n</th>\n",
       "      <th>chi3n</th>\n",
       "      <th>chi4n</th>\n",
       "      <th>hallKierAlpha</th>\n",
       "      <th>kappa1</th>\n",
       "      <th>kappa2</th>\n",
       "      <th>kappa3</th>\n",
       "      <th>Phi</th>\n",
       "    </tr>\n",
       "  </thead>\n",
       "  <tbody>\n",
       "    <tr>\n",
       "      <th>0</th>\n",
       "      <td>-6.220000</td>\n",
       "      <td>290.079038</td>\n",
       "      <td>290.271</td>\n",
       "      <td>6.0</td>\n",
       "      <td>5.0</td>\n",
       "      <td>1.0</td>\n",
       "      <td>5.0</td>\n",
       "      <td>6.0</td>\n",
       "      <td>21.0</td>\n",
       "      <td>35.0</td>\n",
       "      <td>...</td>\n",
       "      <td>10.892875</td>\n",
       "      <td>6.368997</td>\n",
       "      <td>3.514868</td>\n",
       "      <td>3.514868</td>\n",
       "      <td>2.465958</td>\n",
       "      <td>-2.60</td>\n",
       "      <td>13.386159</td>\n",
       "      <td>4.746545</td>\n",
       "      <td>2.295403</td>\n",
       "      <td>3.025620</td>\n",
       "    </tr>\n",
       "    <tr>\n",
       "      <th>1</th>\n",
       "      <td>-3.860000</td>\n",
       "      <td>245.177964</td>\n",
       "      <td>245.366</td>\n",
       "      <td>2.0</td>\n",
       "      <td>1.0</td>\n",
       "      <td>6.0</td>\n",
       "      <td>1.0</td>\n",
       "      <td>1.0</td>\n",
       "      <td>18.0</td>\n",
       "      <td>41.0</td>\n",
       "      <td>...</td>\n",
       "      <td>11.571021</td>\n",
       "      <td>6.370462</td>\n",
       "      <td>1.967401</td>\n",
       "      <td>1.967401</td>\n",
       "      <td>1.051316</td>\n",
       "      <td>-1.75</td>\n",
       "      <td>16.250000</td>\n",
       "      <td>11.727160</td>\n",
       "      <td>12.320175</td>\n",
       "      <td>10.587019</td>\n",
       "    </tr>\n",
       "    <tr>\n",
       "      <th>2</th>\n",
       "      <td>-4.090000</td>\n",
       "      <td>299.152144</td>\n",
       "      <td>299.370</td>\n",
       "      <td>4.0</td>\n",
       "      <td>1.0</td>\n",
       "      <td>1.0</td>\n",
       "      <td>1.0</td>\n",
       "      <td>4.0</td>\n",
       "      <td>22.0</td>\n",
       "      <td>43.0</td>\n",
       "      <td>...</td>\n",
       "      <td>12.951046</td>\n",
       "      <td>8.102094</td>\n",
       "      <td>6.354310</td>\n",
       "      <td>6.354310</td>\n",
       "      <td>5.388741</td>\n",
       "      <td>-1.52</td>\n",
       "      <td>12.968359</td>\n",
       "      <td>4.059868</td>\n",
       "      <td>1.277623</td>\n",
       "      <td>2.393174</td>\n",
       "    </tr>\n",
       "    <tr>\n",
       "      <th>3</th>\n",
       "      <td>-5.935409</td>\n",
       "      <td>113.058912</td>\n",
       "      <td>113.120</td>\n",
       "      <td>4.0</td>\n",
       "      <td>2.0</td>\n",
       "      <td>0.0</td>\n",
       "      <td>2.0</td>\n",
       "      <td>2.0</td>\n",
       "      <td>8.0</td>\n",
       "      <td>15.0</td>\n",
       "      <td>...</td>\n",
       "      <td>4.562569</td>\n",
       "      <td>2.294726</td>\n",
       "      <td>1.020319</td>\n",
       "      <td>1.020319</td>\n",
       "      <td>0.561486</td>\n",
       "      <td>-1.06</td>\n",
       "      <td>5.084092</td>\n",
       "      <td>1.467127</td>\n",
       "      <td>0.640744</td>\n",
       "      <td>0.932376</td>\n",
       "    </tr>\n",
       "    <tr>\n",
       "      <th>4</th>\n",
       "      <td>-4.840000</td>\n",
       "      <td>337.204179</td>\n",
       "      <td>337.463</td>\n",
       "      <td>3.0</td>\n",
       "      <td>1.0</td>\n",
       "      <td>0.0</td>\n",
       "      <td>1.0</td>\n",
       "      <td>3.0</td>\n",
       "      <td>25.0</td>\n",
       "      <td>52.0</td>\n",
       "      <td>...</td>\n",
       "      <td>15.216525</td>\n",
       "      <td>9.759733</td>\n",
       "      <td>8.665479</td>\n",
       "      <td>8.665479</td>\n",
       "      <td>7.136475</td>\n",
       "      <td>-1.53</td>\n",
       "      <td>15.703697</td>\n",
       "      <td>4.796471</td>\n",
       "      <td>1.792760</td>\n",
       "      <td>3.012893</td>\n",
       "    </tr>\n",
       "  </tbody>\n",
       "</table>\n",
       "<p>5 rows × 44 columns</p>\n",
       "</div>"
      ],
      "text/plain": [
       "      caco2     exactmw      amw  lipinskiHBA  lipinskiHBD  NumRotatableBonds  \\\n",
       "0 -6.220000  290.079038  290.271          6.0          5.0                1.0   \n",
       "1 -3.860000  245.177964  245.366          2.0          1.0                6.0   \n",
       "2 -4.090000  299.152144  299.370          4.0          1.0                1.0   \n",
       "3 -5.935409  113.058912  113.120          4.0          2.0                0.0   \n",
       "4 -4.840000  337.204179  337.463          3.0          1.0                0.0   \n",
       "\n",
       "   NumHBD  NumHBA  NumHeavyAtoms  NumAtoms  ...      chi0n     chi1n  \\\n",
       "0     5.0     6.0           21.0      35.0  ...  10.892875  6.368997   \n",
       "1     1.0     1.0           18.0      41.0  ...  11.571021  6.370462   \n",
       "2     1.0     4.0           22.0      43.0  ...  12.951046  8.102094   \n",
       "3     2.0     2.0            8.0      15.0  ...   4.562569  2.294726   \n",
       "4     1.0     3.0           25.0      52.0  ...  15.216525  9.759733   \n",
       "\n",
       "      chi2n     chi3n     chi4n  hallKierAlpha     kappa1     kappa2  \\\n",
       "0  3.514868  3.514868  2.465958          -2.60  13.386159   4.746545   \n",
       "1  1.967401  1.967401  1.051316          -1.75  16.250000  11.727160   \n",
       "2  6.354310  6.354310  5.388741          -1.52  12.968359   4.059868   \n",
       "3  1.020319  1.020319  0.561486          -1.06   5.084092   1.467127   \n",
       "4  8.665479  8.665479  7.136475          -1.53  15.703697   4.796471   \n",
       "\n",
       "      kappa3        Phi  \n",
       "0   2.295403   3.025620  \n",
       "1  12.320175  10.587019  \n",
       "2   1.277623   2.393174  \n",
       "3   0.640744   0.932376  \n",
       "4   1.792760   3.012893  \n",
       "\n",
       "[5 rows x 44 columns]"
      ]
     },
     "execution_count": 13,
     "metadata": {},
     "output_type": "execute_result"
    }
   ],
   "source": [
    "data_df.head()"
   ]
  },
  {
   "cell_type": "code",
   "execution_count": 14,
   "metadata": {},
   "outputs": [
    {
     "data": {
      "text/plain": [
       "<AxesSubplot:ylabel='Frequency'>"
      ]
     },
     "execution_count": 14,
     "metadata": {},
     "output_type": "execute_result"
    },
    {
     "data": {
      "image/png": "[encoded data removed]",
      "text/plain": [
       "<Figure size 640x480 with 1 Axes>"
      ]
     },
     "metadata": {},
     "output_type": "display_data"
    }
   ],
   "source": [
    "data_df[\"caco2\"].plot.hist()"
   ]
  },
  {
   "cell_type": "code",
   "execution_count": 15,
   "metadata": {},
   "outputs": [
    {
     "data": {
      "text/plain": [
       "caco2                             -0.665807\n",
       "exactmw                            0.438935\n",
       "amw                                0.438580\n",
       "lipinskiHBA                        0.555319\n",
       "lipinskiHBD                        1.371120\n",
       "NumRotatableBonds                  0.732091\n",
       "NumHBD                             1.589697\n",
       "NumHBA                             1.243191\n",
       "NumHeavyAtoms                      0.462008\n",
       "NumAtoms                           0.664681\n",
       "NumHeteroatoms                     0.308065\n",
       "NumAmideBonds                      1.569561\n",
       "FractionCSP3                       0.250348\n",
       "NumRings                           0.415160\n",
       "NumAromaticRings                   0.032492\n",
       "NumAliphaticRings                  1.395386\n",
       "NumSaturatedRings                  1.530959\n",
       "NumHeterocycles                    0.729057\n",
       "NumAromaticHeterocycles            1.075119\n",
       "NumSaturatedHeterocycles           1.279912\n",
       "NumAliphaticHeterocycles           1.318858\n",
       "NumSpiroAtoms                      6.772723\n",
       "NumBridgeheadAtoms                 6.291515\n",
       "NumAtomStereoCenters               2.363844\n",
       "NumUnspecifiedAtomStereoCenters    4.327894\n",
       "labuteASA                          0.474069\n",
       "tpsa                               0.886990\n",
       "CrippenClogP                      -0.654999\n",
       "CrippenMR                          0.487122\n",
       "chi0v                              0.481353\n",
       "chi1v                              0.544395\n",
       "chi2v                              0.726853\n",
       "chi3v                              0.726853\n",
       "chi4v                              0.929609\n",
       "chi0n                              0.513183\n",
       "chi1n                              0.591255\n",
       "chi2n                              0.845620\n",
       "chi3n                              0.845620\n",
       "chi4n                              1.151525\n",
       "hallKierAlpha                     -0.235744\n",
       "kappa1                             0.569414\n",
       "kappa2                             0.718741\n",
       "kappa3                            -0.726309\n",
       "Phi                                0.838552\n",
       "dtype: float64"
      ]
     },
     "execution_count": 15,
     "metadata": {},
     "output_type": "execute_result"
    }
   ],
   "source": [
    "data_df.skew()"
   ]
  },
  {
   "cell_type": "markdown",
   "metadata": {},
   "source": [
    "## Feature engineering and train test splitting"
   ]
  },
  {
   "cell_type": "code",
   "execution_count": 16,
   "metadata": {},
   "outputs": [],
   "source": [
    "X = data_df.drop(columns=[\"caco2\"])"
   ]
  },
  {
   "cell_type": "code",
   "execution_count": 17,
   "metadata": {},
   "outputs": [],
   "source": [
    "pipeline = Pipeline(\n",
    "        [\n",
    "            (\"scaling\", StandardScaler()),\n",
    "        ]\n",
    "    )\n",
    "X = pipeline.fit_transform(X)\n"
   ]
  },
  {
   "cell_type": "code",
   "execution_count": 18,
   "metadata": {},
   "outputs": [],
   "source": [
    "y = data_df[\"caco2\"]"
   ]
  },
  {
   "cell_type": "markdown",
   "metadata": {},
   "source": [
    "## Hyperparaeter tuning anfd finding the best model"
   ]
  },
  {
   "cell_type": "code",
   "execution_count": 19,
   "metadata": {},
   "outputs": [
    {
     "name": "stdout",
     "output_type": "stream",
     "text": [
      "Baseline model training loss : 0.1606123563172868\n",
      "Baseline model validation loss : 0.4431692541982043\n",
      "Baseline model test loss : 0.41498398607048825\n"
     ]
    }
   ],
   "source": [
    "X_train, X_test, y_train, y_test = train_test_split(X, y, test_size=0.3, random_state=1)\n",
    "X_test, X_val, y_test, y_val = train_test_split(\n",
    "X_test, y_test, test_size=0.3, random_state=1)\n",
    "\n",
    "rf_regressor = RandomForestRegressor()  # Baseline model\n",
    "rf_regressor.fit(X_train, y_train)\n",
    "y_hat = rf_regressor.predict(X_train)\n",
    "y_val_hat = rf_regressor.predict(X_val)\n",
    "y_test_hat = rf_regressor.predict(X_test)\n",
    "print(f\"Baseline model training loss : {root_mean_squared_error(y_train, y_hat)}\")\n",
    "print(f\"Baseline model validation loss : {root_mean_squared_error(y_val, y_val_hat)}\")\n",
    "print(f\"Baseline model test loss : {root_mean_squared_error(y_test, y_test_hat)}\")"
   ]
  },
  {
   "cell_type": "code",
   "execution_count": 20,
   "metadata": {},
   "outputs": [
    {
     "name": "stdout",
     "output_type": "stream",
     "text": [
      "Best model, validation rmse and parameters : ('GradientBoostingRegressor', 0.4258037199605269, {'max_depth': 2, 'min_samples_leaf': 8, 'min_samples_split': 2, 'n_estimators': 500})\n",
      "Best model test set rmse : 0.4177580499841159\n",
      "Best model test set r2 score : 0.6600704055935178\n",
      "Best model test set mse : 0.1745217883265311\n"
     ]
    }
   ],
   "source": [
    "models = [\"DecisionTreeRegressor\", \"RandomForestRegressor\", \"GradientBoostingRegressor\", \"SVR\"]\n",
    "\n",
    "results = modelling_utils.evaluate_all_models(models, \"hyperparameter_json_files/regression_hyperparameters.json\",\n",
    "                                                  X_train, y_train, X_val, y_val,\n",
    "                                                  scoring_metric=root_mean_squared_error, task_type=\"regression\")\n",
    "print(f\"Best model, validation rmse and parameters : {modelling_utils.find_best_model(results)}\")\n",
    "\n",
    "best_model_dict = modelling_utils.find_best_model(results)\n",
    "best_model = modelling_utils.load_model(best_model_dict[0], \"regression\")\n",
    "best_model.fit(X_train, y_train)\n",
    "y_pred = best_model.predict(X_test)\n",
    "print(f\"Best model test set rmse : {root_mean_squared_error(y_test, y_pred)}\")\n",
    "print(f\"Best model test set r2 score : {r2_score(y_test, y_pred)}\")\n",
    "print(f\"Best model test set mse : {mean_squared_error(y_test, y_pred)}\")"
   ]
  },
  {
   "cell_type": "markdown",
   "metadata": {},
   "source": [
    "## Visualising the performance of the regression model"
   ]
  },
  {
   "cell_type": "code",
   "execution_count": 21,
   "metadata": {},
   "outputs": [
    {
     "data": {
      "text/plain": [
       "[Text(0, 0.5, 'predicted')]"
      ]
     },
     "execution_count": 21,
     "metadata": {},
     "output_type": "execute_result"
    },
    {
     "data": {
      "image/png": "[encoded data removed]",
      "text/plain": [
       "<Figure size 640x480 with 1 Axes>"
      ]
     },
     "metadata": {},
     "output_type": "display_data"
    }
   ],
   "source": [
    "ax = sns.regplot(x=y_test,y=y_test_hat,scatter_kws={'s':10})\n",
    "ax.set(xlabel=\"Actual\")\n",
    "ax.set(ylabel=\"predicted\")"
   ]
  },
  {
   "cell_type": "code",
   "execution_count": 22,
   "metadata": {},
   "outputs": [
    {
     "data": {
      "image/png": "[encoded data removed]",
      "text/plain": [
       "<Figure size 640x480 with 1 Axes>"
      ]
     },
     "metadata": {},
     "output_type": "display_data"
    }
   ],
   "source": [
    "residuals = y_test - y_pred\n",
    "plt.scatter(y_pred, residuals)\n",
    "plt.xlabel('Predicted caco2')\n",
    "plt.ylabel('Residuals')\n",
    "plt.title('Residual Plot')\n",
    "plt.axhline(y=0, color='r', linestyle='--')\n",
    "plt.show()"
   ]
  },
  {
   "cell_type": "code",
   "execution_count": null,
   "metadata": {},
   "outputs": [],
   "source": []
  }
 ],
 "metadata": {
  "kernelspec": {
   "display_name": "my-rdkit-env",
   "language": "python",
   "name": "python3"
  },
  "language_info": {
   "codemirror_mode": {
    "name": "ipython",
    "version": 3
   },
   "file_extension": ".py",
   "mimetype": "text/x-python",
   "name": "python",
   "nbconvert_exporter": "python",
   "pygments_lexer": "ipython3",
   "version": "3.10.13"
  }
 },
 "nbformat": 4,
 "nbformat_minor": 2
}
